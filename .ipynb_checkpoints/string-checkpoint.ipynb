{
 "cells": [
  {
   "cell_type": "code",
   "execution_count": 1,
   "metadata": {},
   "outputs": [
    {
     "name": "stdout",
     "output_type": "stream",
     "text": [
      "<class 'str'>\n"
     ]
    }
   ],
   "source": [
    "a = \"python\"\n",
    "print(type(a))"
   ]
  },
  {
   "cell_type": "code",
   "execution_count": 2,
   "metadata": {},
   "outputs": [
    {
     "name": "stdout",
     "output_type": "stream",
     "text": [
      "hellocity\n"
     ]
    }
   ],
   "source": [
    "a = \"hello\"\n",
    "b = \"city\"\n",
    "print(a+b)"
   ]
  },
  {
   "cell_type": "code",
   "execution_count": 3,
   "metadata": {},
   "outputs": [
    {
     "name": "stdout",
     "output_type": "stream",
     "text": [
      "hello city \n",
      "hello city \n",
      "\n"
     ]
    }
   ],
   "source": [
    "a = \"hello city \\n\"\n",
    "print(a*2)"
   ]
  },
  {
   "cell_type": "code",
   "execution_count": 4,
   "metadata": {},
   "outputs": [
    {
     "name": "stdout",
     "output_type": "stream",
     "text": [
      "h\n"
     ]
    }
   ],
   "source": [
    "a = \"hello dm\"\n",
    "print(a[0])"
   ]
  },
  {
   "cell_type": "code",
   "execution_count": 5,
   "metadata": {},
   "outputs": [
    {
     "name": "stdout",
     "output_type": "stream",
     "text": [
      "hello\n",
      " dm\n"
     ]
    }
   ],
   "source": [
    "a = \"hello dm\"\n",
    "print(a[0:5])\n",
    "print(a[5:])"
   ]
  },
  {
   "cell_type": "code",
   "execution_count": 7,
   "metadata": {},
   "outputs": [
    {
     "name": "stdout",
     "output_type": "stream",
     "text": [
      "hlowrd\n"
     ]
    }
   ],
   "source": [
    "a = \"hello world\"\n",
    "print(a[0:11:2])\n"
   ]
  },
  {
   "cell_type": "code",
   "execution_count": 8,
   "metadata": {},
   "outputs": [
    {
     "name": "stdout",
     "output_type": "stream",
     "text": [
      "dlrow olle\n"
     ]
    }
   ],
   "source": [
    "a = \"hello world\"\n",
    "print(a[10:0:-1])\n"
   ]
  },
  {
   "cell_type": "code",
   "execution_count": 9,
   "metadata": {},
   "outputs": [
    {
     "name": "stdout",
     "output_type": "stream",
     "text": [
      "dlrow olleh\n"
     ]
    }
   ],
   "source": [
    "a = \"hello world\"\n",
    "print(a[10::-1])\n"
   ]
  },
  {
   "cell_type": "code",
   "execution_count": 10,
   "metadata": {},
   "outputs": [
    {
     "name": "stdout",
     "output_type": "stream",
     "text": [
      "enter name = apeksha \n",
      "enter age = 20\n",
      "enter add = kathmandu\n",
      "hello my name is apeksha  i am from kathmandui am 20\n"
     ]
    }
   ],
   "source": [
    "#sring formating\n",
    "name = input(\"enter name = \")\n",
    "age = input(\"enter age = \")\n",
    "add = input(\"enter add = \")\n",
    "info = \"hello my name is \"+name+\" i am from \"+add+\"i am \"+age\n",
    "print(info)"
   ]
  },
  {
   "cell_type": "code",
   "execution_count": 12,
   "metadata": {},
   "outputs": [
    {
     "name": "stdout",
     "output_type": "stream",
     "text": [
      "enter name = appu\n",
      "enter age = 20\n",
      "enter add = dharan\n",
      "hello my name is appu. i am from dharan i am 20\n"
     ]
    }
   ],
   "source": [
    "#sring formating -> no + sign\n",
    "name = input(\"enter name = \")\n",
    "age = int(input(\"enter age = \"))\n",
    "add = input(\"enter add = \")\n",
    "info =f\"hello my name is {name}. i am from {add} i am {age}\"  \n",
    "print(info)"
   ]
  },
  {
   "cell_type": "code",
   "execution_count": 14,
   "metadata": {},
   "outputs": [
    {
     "name": "stdout",
     "output_type": "stream",
     "text": [
      "enter any data for search = appu\n",
      "yes 1\n"
     ]
    }
   ],
   "source": [
    "search = input(\"enter any data for search = \")\n",
    "if search in info:\n",
    "    print(\"yes\",info.count(search))\n",
    "    \n",
    "else:\n",
    "    print(\"no\")"
   ]
  },
  {
   "cell_type": "code",
   "execution_count": 15,
   "metadata": {},
   "outputs": [
    {
     "name": "stdout",
     "output_type": "stream",
     "text": [
      "PYTHON\n",
      "python\n"
     ]
    }
   ],
   "source": [
    "a = \"python\"\n",
    "print(a.upper())\n",
    "print(a.lower())"
   ]
  },
  {
   "cell_type": "code",
   "execution_count": null,
   "metadata": {},
   "outputs": [],
   "source": [
    "info = \"hello my name is appu. i am from dharan i am 20\"\n",
    "lower_info = info.lower()\n",
    "search = input(\"enter any data for search = \").lower()\n",
    "if search in lower_info():\n",
    "    print(\"yes\",lower_info.count(search))\n",
    "    \n",
    "else:\n",
    "    print(\"no\")"
   ]
  },
  {
   "cell_type": "code",
   "execution_count": 3,
   "metadata": {
    "scrolled": true
   },
   "outputs": [
    {
     "name": "stdout",
     "output_type": "stream",
     "text": [
      "enter n = 2\n",
      "enter name = appu\n",
      "enter phne = 987734653\n",
      "enter name = pece\n",
      "enter phne = 218763462\n",
      "appu---987734653\n",
      "pece---218763462\n",
      "\n"
     ]
    }
   ],
   "source": [
    "s = \"\"\n",
    "n = int(input(\"enter n = \"))\n",
    "for i in range(n):\n",
    "    name = input(\"enter name = \")\n",
    "    phone = input(\"enter phne = \")\n",
    "    info = f\"{name}---{phone}\\n\"\n",
    "    s = s+info\n",
    "    \n",
    "print(s)"
   ]
  },
  {
   "cell_type": "code",
   "execution_count": 5,
   "metadata": {},
   "outputs": [
    {
     "name": "stdout",
     "output_type": "stream",
     "text": [
      "appu tr---987734653\n",
      "pece---218763462\n",
      "\n"
     ]
    }
   ],
   "source": [
    "s = s.replace('appu','appu tr')\n",
    "print(s)"
   ]
  },
  {
   "cell_type": "code",
   "execution_count": 6,
   "metadata": {},
   "outputs": [
    {
     "name": "stdout",
     "output_type": "stream",
     "text": [
      "enter nameappu\n",
      "yes 1\n",
      "enter replace nameappu tr\n"
     ]
    }
   ],
   "source": [
    "s = \"appu tr---987734653\\npece---218763462\"\n",
    "name = input(\"enter name\")\n",
    "if name in s:\n",
    "    print(\"yes\",s.count(name))\n",
    "    replace_value = input(\"enter replace name\")\n",
    "    final_data = s.replace(name,replace_value)\n",
    "    \n",
    "else:\n",
    "    print(\"there is no such a value\")"
   ]
  },
  {
   "cell_type": "code",
   "execution_count": 7,
   "metadata": {},
   "outputs": [],
   "source": [
    "#write a proggram for result manegement system (name, sub:phy ,chem,math,nep;total;percentege)"
   ]
  },
  {
   "cell_type": "code",
   "execution_count": 10,
   "metadata": {},
   "outputs": [
    {
     "name": "stdout",
     "output_type": "stream",
     "text": [
      "appu tr---987734653\n",
      "pece---218763462\n"
     ]
    }
   ],
   "source": [
    "s = \"appu tr---987734653\\npece---218763462\"\n",
    "s.replace('appu tr---987734653','')\n",
    "print(s)"
   ]
  },
  {
   "cell_type": "code",
   "execution_count": null,
   "metadata": {},
   "outputs": [],
   "source": []
  }
 ],
 "metadata": {
  "kernelspec": {
   "display_name": "Python 3",
   "language": "python",
   "name": "python3"
  }
 },
 "nbformat": 4,
 "nbformat_minor": 4
}
