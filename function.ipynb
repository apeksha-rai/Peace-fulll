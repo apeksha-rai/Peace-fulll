{
 "cells": [
  {
   "cell_type": "code",
   "execution_count": 1,
   "metadata": {},
   "outputs": [],
   "source": [
    "#print()\n",
    "#type()\n",
    "#str()\n",
    "#int()\n",
    "#input()\n",
    "#float()"
   ]
  },
  {
   "cell_type": "code",
   "execution_count": 4,
   "metadata": {},
   "outputs": [],
   "source": [
    "# def <funtion_name>(): #funtion defining\n",
    "#      <operation>\n",
    "\n",
    "    \n",
    "# <funtion_name>() #funtion calling\n"
   ]
  },
  {
   "cell_type": "code",
   "execution_count": 8,
   "metadata": {},
   "outputs": [
    {
     "name": "stdout",
     "output_type": "stream",
     "text": [
      "hellow world\n"
     ]
    }
   ],
   "source": [
    "def hello():\n",
    "    print(\"hellow world\")\n",
    "    \n",
    "hello()"
   ]
  },
  {
   "cell_type": "code",
   "execution_count": 10,
   "metadata": {},
   "outputs": [
    {
     "name": "stdout",
     "output_type": "stream",
     "text": [
      "enter l = 3\n",
      "enter b = 3\n",
      "the area is =  9\n"
     ]
    }
   ],
   "source": [
    "def area():\n",
    "    l = int(input(\"enter l = \"))\n",
    "    b = int(input(\"enter b = \"))\n",
    "    a = l*b\n",
    "    print(\"the area is = \",a)\n",
    "    \n",
    "    \n",
    "area()"
   ]
  },
  {
   "cell_type": "code",
   "execution_count": 12,
   "metadata": {},
   "outputs": [
    {
     "name": "stdout",
     "output_type": "stream",
     "text": [
      "enter p = 1000\n",
      "enter t = 2\n",
      "enter r = 3\n",
      "the value os i =  60.0\n"
     ]
    }
   ],
   "source": [
    "def cal():\n",
    "    p = int(input(\"enter p = \")) #local variable\n",
    "    t = int(input(\"enter t = \")) #local variable\n",
    "    r = int(input(\"enter r = \")) #local variable\n",
    "    i = p*t*r/100 #local variable\n",
    "    print(\"the value os i = \",i)\n",
    "    \n",
    "cal()"
   ]
  },
  {
   "cell_type": "code",
   "execution_count": 16,
   "metadata": {},
   "outputs": [
    {
     "name": "stdout",
     "output_type": "stream",
     "text": [
      "enter p = 1000\n",
      "enter t = 2\n",
      "enter r = 1\n",
      "the value of i =  20.0\n",
      "1000 2 1\n"
     ]
    }
   ],
   "source": [
    "p = int(input(\"enter p = \")) #global variable\n",
    "t = int(input(\"enter t = \")) #global variable\n",
    "r = int(input(\"enter r = \")) #global variable\n",
    "\n",
    "\n",
    "    \n",
    "def cal():\n",
    "    i = p*t*r/100 #local variable\n",
    "    print(\"the value of i = \",i)\n",
    "    \n",
    "    \n",
    "cal()\n",
    "print(p,t,r)\n"
   ]
  },
  {
   "cell_type": "code",
   "execution_count": 17,
   "metadata": {},
   "outputs": [],
   "source": [
    "#funtion with no argumwnts and no return type\n",
    "#funtion with argumentsa and no return type\n",
    "#funtion with no arguments and return type\n",
    "#funtion with arguments and return type"
   ]
  },
  {
   "cell_type": "code",
   "execution_count": 18,
   "metadata": {},
   "outputs": [
    {
     "name": "stdout",
     "output_type": "stream",
     "text": [
      "enter p = 100\n",
      "enter t = 2\n",
      "enter r = 1\n",
      "the value of i =  2.0\n",
      "100 2 1\n"
     ]
    }
   ],
   "source": [
    "#funtion with no arguments and no return type\n",
    "p = int(input(\"enter p = \")) #global variable\n",
    "t = int(input(\"enter t = \")) #global variable\n",
    "r = int(input(\"enter r = \")) #global variable\n",
    "\n",
    "def cal():\n",
    "    i = p*t*r/100 #local variable\n",
    "    print(\"the value of i = \",i)\n",
    "    \n",
    "    \n",
    "cal()\n",
    "print(p,t,r)\n"
   ]
  },
  {
   "cell_type": "code",
   "execution_count": 20,
   "metadata": {},
   "outputs": [
    {
     "name": "stdout",
     "output_type": "stream",
     "text": [
      "enter l = 2\n",
      "enter b = 3\n",
      "the area is =  6\n"
     ]
    }
   ],
   "source": [
    "#funtion with no arguments and no return type\n",
    "\n",
    "def area():\n",
    "    l = int(input(\"enter l = \"))\n",
    "    b = int(input(\"enter b = \"))\n",
    "    a = l*b\n",
    "    print(\"the area is = \",a)\n",
    "    \n",
    "    \n",
    "area()"
   ]
  },
  {
   "cell_type": "code",
   "execution_count": 21,
   "metadata": {},
   "outputs": [],
   "source": [
    "#funtion with  arguments and no return type\n",
    "# def <funtion_name>(a,b,c):\n",
    "#     <operation>\n",
    "\n",
    "# <funtion_name>(a,b,c)\n"
   ]
  },
  {
   "cell_type": "code",
   "execution_count": 22,
   "metadata": {},
   "outputs": [
    {
     "name": "stdout",
     "output_type": "stream",
     "text": [
      "30\n"
     ]
    }
   ],
   "source": [
    "#funtion with arguments and no return type\n",
    "def area(i,b):\n",
    "    a = i*b\n",
    "    print(a)\n",
    "    \n",
    "    \n",
    "area(10,3)"
   ]
  },
  {
   "cell_type": "code",
   "execution_count": 23,
   "metadata": {},
   "outputs": [
    {
     "name": "stdout",
     "output_type": "stream",
     "text": [
      "enter l = 16\n",
      "enter b = 2\n",
      "32\n"
     ]
    }
   ],
   "source": [
    "#funtion with arguments and no return type\n",
    "def area(i,b):\n",
    "    a = i*b\n",
    "    print(a)\n",
    "    \n",
    "l = int(input(\"enter l = \"))\n",
    "b = int(input(\"enter b = \"))\n",
    "area(l,b)\n"
   ]
  },
  {
   "cell_type": "code",
   "execution_count": 24,
   "metadata": {},
   "outputs": [
    {
     "name": "stdout",
     "output_type": "stream",
     "text": [
      "enter l = 177\n",
      "enter b = 34\n",
      "6018\n"
     ]
    }
   ],
   "source": [
    "#funtion with arguments and no return type\n",
    "l = int(input(\"enter l = \"))\n",
    "b = int(input(\"enter b = \"))\n",
    "area(l,b)"
   ]
  },
  {
   "cell_type": "code",
   "execution_count": null,
   "metadata": {},
   "outputs": [],
   "source": [
    "#funtion with arguments and no return type \n",
    "def area(l,b = 20):\n",
    "    a = l*b\n",
    "    print(a)\n",
    "    \n",
    "    \n",
    "area(10,30)\n",
    "area(100)"
   ]
  },
  {
   "cell_type": "code",
   "execution_count": null,
   "metadata": {},
   "outputs": [],
   "source": [
    "#return type function \n",
    "def hello():\n",
    "    a = \"hellow world\"\n",
    "    return a\n",
    "\n",
    "print(hello())"
   ]
  },
  {
   "cell_type": "code",
   "execution_count": 1,
   "metadata": {},
   "outputs": [
    {
     "name": "stdout",
     "output_type": "stream",
     "text": [
      "300\n",
      "2000\n"
     ]
    }
   ],
   "source": [
    "#funtion with arguments and no return type \n",
    "def area(l,b = 20):\n",
    "    a = l*b\n",
    "    print(a)\n",
    "    \n",
    "    \n",
    "area(10,30)\n",
    "area(100)"
   ]
  },
  {
   "cell_type": "code",
   "execution_count": 3,
   "metadata": {},
   "outputs": [
    {
     "name": "stdout",
     "output_type": "stream",
     "text": [
      "enter l = 4\n",
      "enter b = 5\n",
      "enter h = 2\n",
      "the area is =  20\n",
      "the volume is =  40\n"
     ]
    }
   ],
   "source": [
    "#funtion with arguments and return type \n",
    "l = int(input(\"enter l = \"))\n",
    "b = int(input(\"enter b = \"))\n",
    "h = int(input(\"enter h = \"))\n",
    "def area(x,y):\n",
    "    a = x*y\n",
    "    print(\"the area is = \",a)\n",
    "def volume(x,y,z):\n",
    "    v = x*y*z\n",
    "    print(\"the volume is = \",v)\n",
    "    \n",
    "area(l,b)\n",
    "volume(l,b,h)\n",
    "       "
   ]
  },
  {
   "cell_type": "code",
   "execution_count": 4,
   "metadata": {},
   "outputs": [
    {
     "name": "stdout",
     "output_type": "stream",
     "text": [
      "c\n",
      "c++\n",
      "java\n",
      "python\n"
     ]
    }
   ],
   "source": [
    "def language(lan = \"python\"):\n",
    "    print(lan)\n",
    "    \n",
    "language(\"c\")\n",
    "language(\"c++\")\n",
    "language(\"java\")\n",
    "language()"
   ]
  },
  {
   "cell_type": "code",
   "execution_count": 5,
   "metadata": {},
   "outputs": [
    {
     "name": "stdout",
     "output_type": "stream",
     "text": [
      "hellow world\n"
     ]
    }
   ],
   "source": [
    "#return type function \n",
    "def hello():\n",
    "    a = \"hellow world\"\n",
    "    return a\n",
    "\n",
    "print(hello())"
   ]
  },
  {
   "cell_type": "code",
   "execution_count": 1,
   "metadata": {},
   "outputs": [
    {
     "name": "stdout",
     "output_type": "stream",
     "text": [
      "enter name = apeksha\n",
      "enter age =  20\n",
      "enter address = dharan\n",
      "hello my name is apeksha I am  20 I am from dharan\n"
     ]
    }
   ],
   "source": [
    "#funtion with arguments with return type\n",
    "def info(name,age,add):\n",
    "    info = \"hello my name is \"+name+\" I am  \"+str(age)+\" I am from \"+add\n",
    "    return info\n",
    "\n",
    "name = input(\"enter name = \")\n",
    "age = int(input(\"enter age =  \"))\n",
    "add = input (\"enter address = \")\n",
    "\n",
    "print(info(name,age,add))"
   ]
  },
  {
   "cell_type": "code",
   "execution_count": 11,
   "metadata": {},
   "outputs": [
    {
     "name": "stdout",
     "output_type": "stream",
     "text": [
      "enter l = 100\n",
      "enter b = 3\n",
      "enter h = 2\n",
      "the area is =  300\n",
      "the volume is =  600\n"
     ]
    }
   ],
   "source": [
    "def cal(l,b,h):\n",
    "    a = l*b \n",
    "    v = l*b*h\n",
    "    return a,v\n",
    "l = int(input(\"enter l = \"))\n",
    "b = int(input(\"enter b = \"))\n",
    "h = int(input(\"enter h = \"))\n",
    "\n",
    "area,volume = cal(l,b,h)\n",
    "print(\"the area is = \",area)\n",
    "print(\"the volume is = \",volume)"
   ]
  },
  {
   "cell_type": "code",
   "execution_count": 12,
   "metadata": {},
   "outputs": [
    {
     "name": "stdout",
     "output_type": "stream",
     "text": [
      "enter l = 200\n",
      "enter b = 2\n",
      "enter h = 1\n",
      "the area is =  400\n",
      "the volume is =  400\n"
     ]
    }
   ],
   "source": [
    "def area(l,b):\n",
    "    a = l*b \n",
    "    return a\n",
    "def volume(l,b,h):\n",
    "    v = l*b*h\n",
    "    return v\n",
    "l = int(input(\"enter l = \"))\n",
    "b = int(input(\"enter b = \"))\n",
    "h = int(input(\"enter h = \"))\n",
    "\n",
    "ar = area(l,b)\n",
    "vo = volume(l,b,h)\n",
    "print(\"the area is = \",ar)\n",
    "print(\"the volume is = \",vo)"
   ]
  },
  {
   "cell_type": "code",
   "execution_count": 13,
   "metadata": {},
   "outputs": [
    {
     "name": "stdout",
     "output_type": "stream",
     "text": [
      "enter l = 100\n",
      "enter b = 3\n",
      "enter h = 2\n",
      "the area is =  300\n",
      "the volume is =  600\n"
     ]
    }
   ],
   "source": [
    "def area(l,b):\n",
    "    a = l*b \n",
    "    return a\n",
    "def volume(l,b,h):\n",
    "    v = area(l,b)*h\n",
    "    return v\n",
    "l = int(input(\"enter l = \"))\n",
    "b = int(input(\"enter b = \"))\n",
    "h = int(input(\"enter h = \"))\n",
    "\n",
    "ar = area(l,b)\n",
    "vo = volume(l,b,h)\n",
    "print(\"the area is = \",ar)\n",
    "print(\"the volume is = \",vo)"
   ]
  },
  {
   "cell_type": "code",
   "execution_count": 15,
   "metadata": {},
   "outputs": [
    {
     "name": "stdout",
     "output_type": "stream",
     "text": [
      "enter name = app\n",
      "enter age =  20\n",
      "enter address = kathmandu\n",
      "hello my name is app I am  20 I am from kathmandu\n"
     ]
    }
   ],
   "source": [
    "#funtion with arguments(tuple or array) with return type\n",
    "def info(x):\n",
    "    name,age,add = x\n",
    "    i = \"hello my name is \"+name+\" I am  \"+str(age)+\" I am from \"+add\n",
    "    return i\n",
    "\n",
    "name = input(\"enter name = \")\n",
    "age = int(input(\"enter age =  \"))\n",
    "add = input (\"enter address = \")\n",
    "\n",
    "x = (name,age,add)\n",
    "print(info(x))"
   ]
  },
  {
   "cell_type": "code",
   "execution_count": 19,
   "metadata": {},
   "outputs": [
    {
     "name": "stdout",
     "output_type": "stream",
     "text": [
      "hello wprld\n",
      "enter y for more calculationy\n",
      "hello wprld\n",
      "enter y for more calculationy\n",
      "hello wprld\n",
      "enter y for more calculationy\n",
      "hello wprld\n",
      "enter y for more calculationhggggfte\n"
     ]
    }
   ],
   "source": [
    "#recursive function\n",
    "def hello():\n",
    "    print(\"hello wprld\")\n",
    "    x = input(\"enter y for more calculation\")\n",
    "    if x == 'y':\n",
    "       hello()\n",
    "    \n",
    "    \n",
    "hello()\n"
   ]
  },
  {
   "cell_type": "code",
   "execution_count": 20,
   "metadata": {},
   "outputs": [
    {
     "name": "stdout",
     "output_type": "stream",
     "text": [
      "enter p = 100\n",
      "enter t = 2\n",
      "enter r = 1\n",
      "the i =  2.0\n",
      "enter y for more calculation = y\n",
      "enter p = 199\n",
      "enter t = 2\n",
      "enter r = 3\n",
      "the i =  11.94\n",
      "enter y for more calculation = jkdfhkchsku\n"
     ]
    }
   ],
   "source": [
    "def cal():\n",
    "    p = float(input(\"enter p = \"))\n",
    "    t = float(input(\"enter t = \"))\n",
    "    r = float(input(\"enter r = \"))\n",
    "    i = p*t*r/100\n",
    "    print(\"the i = \",i)\n",
    "    x = input(\"enter y for more calculation = \")\n",
    "    if x == 'y':\n",
    "        cal()\n",
    "        \n",
    "        \n",
    "cal()"
   ]
  },
  {
   "cell_type": "code",
   "execution_count": 22,
   "metadata": {},
   "outputs": [
    {
     "name": "stdout",
     "output_type": "stream",
     "text": [
      "3.141592653589793\n"
     ]
    }
   ],
   "source": [
    "#math function\n",
    "import math as m\n",
    "print(m.pi)"
   ]
  },
  {
   "cell_type": "code",
   "execution_count": 1,
   "metadata": {},
   "outputs": [
    {
     "name": "stdout",
     "output_type": "stream",
     "text": [
      "enter radius = 7\n",
      "the area is =  153.93804002589985\n"
     ]
    }
   ],
   "source": [
    "import math as m \n",
    "def area(r):\n",
    "    a = m.pi*m.pow(r,2)\n",
    "    return a \n",
    "\n",
    "r = float(input(\"enter radius = \"))\n",
    "#ar = area(r)\n",
    "print(\"the area is = \",area(r))"
   ]
  },
  {
   "cell_type": "code",
   "execution_count": 2,
   "metadata": {},
   "outputs": [
    {
     "name": "stdout",
     "output_type": "stream",
     "text": [
      "sin -- 1.0\n",
      "cos -- 6.123233995736766e-17\n",
      "tan -- 1.633123935319537e+16\n"
     ]
    }
   ],
   "source": [
    "a = m.pi/2 \n",
    "print(\"sin --\",m.sin(a))\n",
    "print(\"cos --\",m.cos(a))\n",
    "print(\"tan --\",m.tan(a))"
   ]
  },
  {
   "cell_type": "code",
   "execution_count": 3,
   "metadata": {},
   "outputs": [
    {
     "name": "stdout",
     "output_type": "stream",
     "text": [
      "0.5235987755982989\n"
     ]
    }
   ],
   "source": [
    "t = 0.5\n",
    "print(m.asin(t))"
   ]
  },
  {
   "cell_type": "code",
   "execution_count": 4,
   "metadata": {},
   "outputs": [
    {
     "name": "stdout",
     "output_type": "stream",
     "text": [
      "1.0\n"
     ]
    }
   ],
   "source": [
    "import math as m\n",
    "a = m.pi/2\n",
    "x = m.sin(a)\n",
    "y = m.cos(a)\n",
    "r = m.pow(x,y)+m.pow(y,2)\n",
    "print(r)"
   ]
  },
  {
   "cell_type": "code",
   "execution_count": null,
   "metadata": {},
   "outputs": [],
   "source": []
  }
 ],
 "metadata": {
  "kernelspec": {
   "display_name": "Python 3",
   "language": "python",
   "name": "python3"
  },
  "language_info": {
   "codemirror_mode": {
    "name": "ipython",
    "version": 3
   },
   "file_extension": ".py",
   "mimetype": "text/x-python",
   "name": "python",
   "nbconvert_exporter": "python",
   "pygments_lexer": "ipython3",
   "version": "3.8.5"
  }
 },
 "nbformat": 4,
 "nbformat_minor": 4
}
