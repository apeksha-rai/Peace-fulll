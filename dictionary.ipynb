{
 "cells": [
  {
   "cell_type": "code",
   "execution_count": 1,
   "metadata": {},
   "outputs": [],
   "source": [
    "#a = {}\n",
    "#a = {<key>:<value>,<key>:<value>,<key>:<value>}\n"
   ]
  },
  {
   "cell_type": "code",
   "execution_count": 2,
   "metadata": {},
   "outputs": [
    {
     "data": {
      "text/plain": [
       "dict"
      ]
     },
     "execution_count": 2,
     "metadata": {},
     "output_type": "execute_result"
    }
   ],
   "source": [
    "a = {}\n",
    "type(a)"
   ]
  },
  {
   "cell_type": "code",
   "execution_count": 3,
   "metadata": {},
   "outputs": [
    {
     "name": "stdout",
     "output_type": "stream",
     "text": [
      "{'a': 'apple', 'b': 'ball'}\n"
     ]
    },
    {
     "data": {
      "text/plain": [
       "'apple'"
      ]
     },
     "execution_count": 3,
     "metadata": {},
     "output_type": "execute_result"
    }
   ],
   "source": [
    "a = {\"a\":\"apple\",\"b\":\"ball\"}\n",
    "print(a)\n",
    "a[\"a\"]"
   ]
  },
  {
   "cell_type": "code",
   "execution_count": 4,
   "metadata": {},
   "outputs": [],
   "source": [
    "#mutable datatype\n",
    "#it may have multiple valuees\n",
    "#no duplicate index\n",
    "#ordered"
   ]
  },
  {
   "cell_type": "code",
   "execution_count": 5,
   "metadata": {},
   "outputs": [
    {
     "data": {
      "text/plain": [
       "{'a': 'apple', 'b': 'apple'}"
      ]
     },
     "execution_count": 5,
     "metadata": {},
     "output_type": "execute_result"
    }
   ],
   "source": [
    "a = {\"a\":\"apple\",\"b\":\"apple\"}\n",
    "a\n",
    " "
   ]
  },
  {
   "cell_type": "code",
   "execution_count": 7,
   "metadata": {},
   "outputs": [
    {
     "data": {
      "text/plain": [
       "{'a': 'ant', 'b': 'apple'}"
      ]
     },
     "execution_count": 7,
     "metadata": {},
     "output_type": "execute_result"
    }
   ],
   "source": [
    "a[\"a\"] = \"ant\"\n",
    "a"
   ]
  },
  {
   "cell_type": "code",
   "execution_count": 10,
   "metadata": {},
   "outputs": [
    {
     "data": {
      "text/plain": [
       "{'a': 'apple'}"
      ]
     },
     "execution_count": 10,
     "metadata": {},
     "output_type": "execute_result"
    }
   ],
   "source": [
    "a = {}\n",
    "a[\"a\"] = \"apple\"\n",
    "a"
   ]
  },
  {
   "cell_type": "code",
   "execution_count": 11,
   "metadata": {},
   "outputs": [
    {
     "data": {
      "text/plain": [
       "{'a': 'apple', 'b': 'ball', 'c': 'cat'}"
      ]
     },
     "execution_count": 11,
     "metadata": {},
     "output_type": "execute_result"
    }
   ],
   "source": [
    "a = {}\n",
    "a[\"a\"] = \"apple\"\n",
    "a[\"b\"] = \"ball\"\n",
    "a[\"c\"] = \"cat\"\n",
    "a"
   ]
  },
  {
   "cell_type": "code",
   "execution_count": 12,
   "metadata": {},
   "outputs": [
    {
     "data": {
      "text/plain": [
       "{'a': 'ant', 'b': 'ball', 'c': 'cat'}"
      ]
     },
     "execution_count": 12,
     "metadata": {},
     "output_type": "execute_result"
    }
   ],
   "source": [
    "a[\"a\"] = \"ant\" #mutable ,duplicate values can stay but not index\n",
    "a ,"
   ]
  },
  {
   "cell_type": "code",
   "execution_count": 13,
   "metadata": {},
   "outputs": [
    {
     "name": "stdout",
     "output_type": "stream",
     "text": [
      "a\n",
      "b\n",
      "c\n"
     ]
    }
   ],
   "source": [
    "for i in a:\n",
    "    print(i)"
   ]
  },
  {
   "cell_type": "code",
   "execution_count": 14,
   "metadata": {},
   "outputs": [
    {
     "name": "stdout",
     "output_type": "stream",
     "text": [
      "ant\n",
      "ball\n",
      "cat\n"
     ]
    }
   ],
   "source": [
    "for i in a.values():\n",
    "    print(i)"
   ]
  },
  {
   "cell_type": "code",
   "execution_count": 15,
   "metadata": {},
   "outputs": [
    {
     "name": "stdout",
     "output_type": "stream",
     "text": [
      "('a', 'ant')\n",
      "('b', 'ball')\n",
      "('c', 'cat')\n"
     ]
    }
   ],
   "source": [
    "for i in a.items():\n",
    "    print(i)"
   ]
  },
  {
   "cell_type": "code",
   "execution_count": 16,
   "metadata": {},
   "outputs": [
    {
     "data": {
      "text/plain": [
       "[('a', 'ant'), ('b', 'ball'), ('c', 'cat')]"
      ]
     },
     "execution_count": 16,
     "metadata": {},
     "output_type": "execute_result"
    }
   ],
   "source": [
    "key_value = []\n",
    "for i in a.items():\n",
    "    key_value.append(i)\n",
    "    \n",
    "key_value"
   ]
  },
  {
   "cell_type": "code",
   "execution_count": 17,
   "metadata": {},
   "outputs": [
    {
     "data": {
      "text/plain": [
       "[['a', 'ant'], ['b', 'ball'], ['c', 'cat']]"
      ]
     },
     "execution_count": 17,
     "metadata": {},
     "output_type": "execute_result"
    }
   ],
   "source": [
    "new_data = []\n",
    "for i in key_value:\n",
    "    j = list(i)\n",
    "    new_data.append(j)\n",
    "    \n",
    "new_data\n",
    "    "
   ]
  },
  {
   "cell_type": "code",
   "execution_count": 18,
   "metadata": {},
   "outputs": [
    {
     "data": {
      "text/plain": [
       "[['A', 'ant'], ['b', 'ball'], ['c', 'cat']]"
      ]
     },
     "execution_count": 18,
     "metadata": {},
     "output_type": "execute_result"
    }
   ],
   "source": [
    "new_data[0][0] = \"A\"\n",
    "new_data"
   ]
  },
  {
   "cell_type": "code",
   "execution_count": 22,
   "metadata": {},
   "outputs": [
    {
     "name": "stdout",
     "output_type": "stream",
     "text": [
      "{'A': 'ant', 'b': 'ball', 'c': 'cat'}\n"
     ]
    }
   ],
   "source": [
    "d = {}\n",
    "for k in new_data:\n",
    "    key = k[0]\n",
    "    value = k[1]\n",
    "    d[key] = value\n",
    "    \n",
    "print(d)"
   ]
  },
  {
   "cell_type": "code",
   "execution_count": 24,
   "metadata": {},
   "outputs": [
    {
     "name": "stdout",
     "output_type": "stream",
     "text": [
      "enter no of people = 2\n",
      "enter name = ra\n",
      "enter phone = 986243256\n",
      "enter name = sayam\n",
      "enter phone = 53164166\n",
      "the info is = \n",
      " {'ra': 986243256, 'sayam': 53164166}\n"
     ]
    }
   ],
   "source": [
    "d = {}\n",
    "n = int(input(\"enter no of people = \"))\n",
    "for i in range(n):\n",
    "    name = input(\"enter name = \")\n",
    "    phone = int(input(\"enter phone = \"))\n",
    "    d[name] = phone\n",
    "    \n",
    "print(\"the info is = \\n\",d)"
   ]
  },
  {
   "cell_type": "code",
   "execution_count": 25,
   "metadata": {},
   "outputs": [
    {
     "data": {
      "text/plain": [
       "53164166"
      ]
     },
     "execution_count": 25,
     "metadata": {},
     "output_type": "execute_result"
    }
   ],
   "source": [
    "d[\"sayam\"]"
   ]
  },
  {
   "cell_type": "code",
   "execution_count": 26,
   "metadata": {},
   "outputs": [],
   "source": [
    "#in dict couldnot do math operation like + , - 8,,,,"
   ]
  },
  {
   "cell_type": "code",
   "execution_count": 2,
   "metadata": {},
   "outputs": [],
   "source": [
    "a = {\"a\":\"apple\"}\n",
    "b = {\"b\":\"ball\"}\n",
    "a.update(b)"
   ]
  },
  {
   "cell_type": "code",
   "execution_count": 3,
   "metadata": {},
   "outputs": [
    {
     "data": {
      "text/plain": [
       "{'a': 'apple', 'b': 'ball'}"
      ]
     },
     "execution_count": 3,
     "metadata": {},
     "output_type": "execute_result"
    }
   ],
   "source": [
    "a"
   ]
  },
  {
   "cell_type": "code",
   "execution_count": 5,
   "metadata": {},
   "outputs": [
    {
     "data": {
      "text/plain": [
       "{'b': 'ball'}"
      ]
     },
     "execution_count": 5,
     "metadata": {},
     "output_type": "execute_result"
    }
   ],
   "source": [
    "d = {'a':'apple','b':'ball'}\n",
    "del d[\"a\"]\n",
    "b"
   ]
  },
  {
   "cell_type": "code",
   "execution_count": 6,
   "metadata": {},
   "outputs": [
    {
     "name": "stdout",
     "output_type": "stream",
     "text": [
      "{'b': 'ball'}\n"
     ]
    }
   ],
   "source": [
    "d = {'a':'apple','b':'ball'}\n",
    "d.pop(\"a\")\n",
    "print(d)"
   ]
  },
  {
   "cell_type": "code",
   "execution_count": 7,
   "metadata": {},
   "outputs": [
    {
     "data": {
      "text/plain": [
       "{}"
      ]
     },
     "execution_count": 7,
     "metadata": {},
     "output_type": "execute_result"
    }
   ],
   "source": [
    "d = {'a':'apple','b':'ball'}\n",
    "d.clear()\n",
    "d"
   ]
  },
  {
   "cell_type": "code",
   "execution_count": 8,
   "metadata": {},
   "outputs": [],
   "source": [
    "#list inside dict\n"
   ]
  },
  {
   "cell_type": "code",
   "execution_count": 9,
   "metadata": {},
   "outputs": [
    {
     "name": "stdout",
     "output_type": "stream",
     "text": [
      "{'a': ['apple', 'ant'], 'b': ['ball', 'bat']}\n",
      "['apple', 'ant']\n",
      "apple\n"
     ]
    }
   ],
   "source": [
    "a = {\"a\":[\"apple\",\"ant\"],\"b\":[\"ball\",\"bat\"]}\n",
    "print(a)\n",
    "print(a[\"a\"])\n",
    "print(a[\"a\"][0])\n"
   ]
  },
  {
   "cell_type": "code",
   "execution_count": 15,
   "metadata": {},
   "outputs": [
    {
     "ename": "SyntaxError",
     "evalue": "invalid syntax (<ipython-input-15-188d973a4b9f>, line 5)",
     "output_type": "error",
     "traceback": [
      "\u001b[1;36m  File \u001b[1;32m\"<ipython-input-15-188d973a4b9f>\"\u001b[1;36m, line \u001b[1;32m5\u001b[0m\n\u001b[1;33m    ntc_ phone = int(input(\"enter ntc phone = \"))\u001b[0m\n\u001b[1;37m         ^\u001b[0m\n\u001b[1;31mSyntaxError\u001b[0m\u001b[1;31m:\u001b[0m invalid syntax\n"
     ]
    }
   ],
   "source": [
    "d = {}\n",
    "n = int(input(\"enter no of people = \"))\n",
    "for i in range(n):\n",
    "    name = input(\"enter name = \")\n",
    "    ntc_ phone = int(input(\"enter ntc phone = \"))\n",
    "    ncell_ phone = int(input(\"enter ncell phone = \"))\n",
    "\n",
    "    d[name] =[ntc_phone,ncell_phpone]\n",
    "    \n",
    "print(\"the info is = \\n\",d)"
   ]
  },
  {
   "cell_type": "code",
   "execution_count": null,
   "metadata": {},
   "outputs": [],
   "source": []
  },
  {
   "cell_type": "code",
   "execution_count": null,
   "metadata": {},
   "outputs": [],
   "source": []
  },
  {
   "cell_type": "code",
   "execution_count": null,
   "metadata": {},
   "outputs": [],
   "source": []
  },
  {
   "cell_type": "code",
   "execution_count": null,
   "metadata": {},
   "outputs": [],
   "source": []
  },
  {
   "cell_type": "code",
   "execution_count": null,
   "metadata": {},
   "outputs": [],
   "source": []
  },
  {
   "cell_type": "code",
   "execution_count": null,
   "metadata": {},
   "outputs": [],
   "source": []
  },
  {
   "cell_type": "code",
   "execution_count": 16,
   "metadata": {},
   "outputs": [
    {
     "name": "stdout",
     "output_type": "stream",
     "text": [
      "enter no of people = 2\n",
      "enter name = apple\n",
      "enter price = 23\n",
      "enter quantity = 3\n",
      "enter name = ball\n",
      "enter price = 45\n",
      "enter quantity = 2\n",
      "the info is = \n",
      " {'apple': [23, 3, 69], 'ball': [45, 2, 90]}\n"
     ]
    }
   ],
   "source": [
    "d = {}\n",
    "n = int(input(\"enter no of people = \"))\n",
    "for i in range(n):\n",
    "    name = input(\"enter name = \")\n",
    "    price = int(input(\"enter price = \"))\n",
    "    quantity = int(input(\"enter quantity = \"))\n",
    "    total = price*quantity\n",
    "\n",
    "    d[name] =[price,quantity,total]\n",
    "    \n",
    "print(\"the info is = \\n\",d)"
   ]
  },
  {
   "cell_type": "code",
   "execution_count": 17,
   "metadata": {},
   "outputs": [
    {
     "data": {
      "text/plain": [
       "{'name': 'ram', 'phone': 981035683}"
      ]
     },
     "execution_count": 17,
     "metadata": {},
     "output_type": "execute_result"
    }
   ],
   "source": [
    "a = [{\"name\":\"ram\",\"phone\":981035683},\n",
    "     {\"name\":\"sayam\",\"phone\":984575683},\n",
    "     {\"name\":\"hari\",\"phone\":9754375683}]\n",
    "a[0]\n"
   ]
  },
  {
   "cell_type": "code",
   "execution_count": 18,
   "metadata": {},
   "outputs": [
    {
     "data": {
      "text/plain": [
       "{'name': 'hari', 'phone': 9754375683}"
      ]
     },
     "execution_count": 18,
     "metadata": {},
     "output_type": "execute_result"
    }
   ],
   "source": [
    "a = [{\"name\":\"ram\",\"phone\":981035683},\n",
    "     {\"name\":\"sayam\",\"phone\":984575683},\n",
    "     {\"name\":\"hari\",\"phone\":9754375683}]\n",
    "a[2]\n"
   ]
  },
  {
   "cell_type": "code",
   "execution_count": 19,
   "metadata": {},
   "outputs": [
    {
     "name": "stdout",
     "output_type": "stream",
     "text": [
      "{'name': 'ram', 'phone': 981035683}\n",
      "{'name': 'sayam', 'phone': 984575683}\n",
      "{'name': 'hari', 'phone': 9754375683}\n"
     ]
    }
   ],
   "source": [
    "for i in a:\n",
    "    print(i)"
   ]
  },
  {
   "cell_type": "code",
   "execution_count": 20,
   "metadata": {},
   "outputs": [
    {
     "name": "stdout",
     "output_type": "stream",
     "text": [
      "enter no of people = 2\n",
      "enter name = apple\n",
      "enter price = 364\n",
      "enter quantity = 2\n",
      "enter name = ball\n",
      "enter price = 23\n",
      "enter quantity = 4\n",
      "the info is = \n",
      " [{'name': 'apple', 'price': 364, 'quantity': 2, 'total': 728}, {'name': 'ball', 'price': 23, 'quantity': 4, 'total': 92}]\n"
     ]
    }
   ],
   "source": [
    "d = []\n",
    "n = int(input(\"enter no of people = \"))\n",
    "for i in range(n):\n",
    "    name = input(\"enter name = \")\n",
    "    price = int(input(\"enter price = \"))\n",
    "    quantity = int(input(\"enter quantity = \"))\n",
    "    total = price*quantity\n",
    "    data = {\"name\":name,\"price\":price,\n",
    "           \"quantity\":quantity,\"total\":total}\n",
    "    d.append(data)\n",
    "    \n",
    "print(\"the info is = \\n\",d)"
   ]
  },
  {
   "cell_type": "code",
   "execution_count": 21,
   "metadata": {},
   "outputs": [],
   "source": [
    "#price and quantity "
   ]
  },
  {
   "cell_type": "code",
   "execution_count": 22,
   "metadata": {},
   "outputs": [
    {
     "name": "stdout",
     "output_type": "stream",
     "text": [
      "enter no of people = 2\n",
      "enter name = apple\n",
      "enter price = 23\n",
      "enter quantity = 3\n",
      "enter name = appi\n",
      "enter price = 45\n",
      "enter quantity = 3\n",
      "the info is = \n",
      " [{'name': 'apple', 'price': 23, 'quantity': 3, 'total': 69}, {'name': 'appi', 'price': 45, 'quantity': 3, 'total': 135}]\n",
      "the total is =  204\n"
     ]
    }
   ],
   "source": [
    "d = []\n",
    "s = 0\n",
    "n = int(input(\"enter no of people = \"))\n",
    "for i in range(n):\n",
    "    name = input(\"enter name = \")\n",
    "    price = int(input(\"enter price = \"))\n",
    "    quantity = int(input(\"enter quantity = \"))\n",
    "    total = price*quantity\n",
    "    s = s+total\n",
    "    data = {\"name\":name,\"price\":price,\n",
    "           \"quantity\":quantity,\"total\":total}\n",
    "    d.append(data)\n",
    "    \n",
    "print(\"the info is = \\n\",d)\n",
    "print(\"the total is = \",s)"
   ]
  },
  {
   "cell_type": "code",
   "execution_count": 24,
   "metadata": {},
   "outputs": [
    {
     "ename": "SyntaxError",
     "evalue": "invalid syntax (<ipython-input-24-24fdfb9491c0>, line 2)",
     "output_type": "error",
     "traceback": [
      "\u001b[1;36m  File \u001b[1;32m\"<ipython-input-24-24fdfb9491c0>\"\u001b[1;36m, line \u001b[1;32m2\u001b[0m\n\u001b[1;33m    d[]\u001b[0m\n\u001b[1;37m      ^\u001b[0m\n\u001b[1;31mSyntaxError\u001b[0m\u001b[1;31m:\u001b[0m invalid syntax\n"
     ]
    }
   ],
   "source": [
    "d[0][price] = 200\n",
    "q = d[0][\"quantity\"]\n",
    "to"
   ]
  },
  {
   "cell_type": "code",
   "execution_count": null,
   "metadata": {},
   "outputs": [],
   "source": [
    "#wap for result mangement system (update the marks is required)"
   ]
  },
  {
   "cell_type": "code",
   "execution_count": 8,
   "metadata": {},
   "outputs": [
    {
     "name": "stdout",
     "output_type": "stream",
     "text": [
      "{'physiscs': 90, 'chemistery': 78, 'math': 78, 'english': 67}\n",
      "{'physiscs': 92, 'chemistery': 79, 'math': 74, 'english': 45}\n"
     ]
    }
   ],
   "source": [
    "#dictionary inside dictionary\n",
    "a = {\"ram\":{\"physics\":90,\"chemistery\":78,\"math\":78,\"english\":67},\n",
    "    \"syam\":{\"physiscs\":92,\"chemistery\":79,\"math\":74,\"english\":45}}\n",
    "print(a[\"ram\"])\n",
    "print(a[\"syam\"])"
   ]
  },
  {
   "cell_type": "code",
   "execution_count": 10,
   "metadata": {},
   "outputs": [
    {
     "name": "stdout",
     "output_type": "stream",
     "text": [
      "90\n"
     ]
    }
   ],
   "source": [
    "print(a[\"ram\"][\"physics\"])"
   ]
  },
  {
   "cell_type": "code",
   "execution_count": 13,
   "metadata": {},
   "outputs": [
    {
     "name": "stdout",
     "output_type": "stream",
     "text": [
      "{'a': 'apple'}\n",
      "{'a': ['apple', 'ant']}\n",
      "{('A', 'a'): 'apple'}\n"
     ]
    }
   ],
   "source": [
    "a = {\"a\":\"apple\"}  \n",
    "b = {\"a\":[\"apple\",\"ant\"]}\n",
    "c = {(\"A\",\"a\"):\"apple\"} #main imporatance of tuple both are imutable (tupale and str) .it is imutable data type\n",
    "d = {\"a\":(\"apple\",\"ant\")}\n",
    "print(a)\n",
    "print(b)\n",
    "print(c)"
   ]
  },
  {
   "cell_type": "code",
   "execution_count": 14,
   "metadata": {},
   "outputs": [
    {
     "name": "stdout",
     "output_type": "stream",
     "text": [
      "{'physics': 90, 'chemistery': 78, 'math': 78, 'english': 67}\n",
      "{'physiscs': 92, 'chemistery': 79, 'math': 74, 'english': 45}\n"
     ]
    },
    {
     "data": {
      "text/plain": [
       "{'ram': {'physics': 90,\n",
       "  'chemistery': 78,\n",
       "  'math': 78,\n",
       "  'english': 67,\n",
       "  'computer': 99},\n",
       " 'syam': {'physiscs': 92, 'chemistery': 79, 'math': 74, 'english': 45}}"
      ]
     },
     "execution_count": 14,
     "metadata": {},
     "output_type": "execute_result"
    }
   ],
   "source": [
    "#dictionary inside dictionary\n",
    "a = {\"ram\":{\"physics\":90,\"chemistery\":78,\"math\":78,\"english\":67},\n",
    "    \"syam\":{\"physiscs\":92,\"chemistery\":79,\"math\":74,\"english\":45}}\n",
    "print(a[\"ram\"])\n",
    "print(a[\"syam\"])\n",
    "a[\"ram\"][\"computer\"] = 99\n",
    "a"
   ]
  },
  {
   "cell_type": "code",
   "execution_count": 16,
   "metadata": {},
   "outputs": [
    {
     "name": "stdout",
     "output_type": "stream",
     "text": [
      "enter no of people = 2\n",
      "enter name = ram\n",
      "enter price = 56\n",
      "enter quantity = 7\n",
      "enter name = sam\n",
      "enter price = 56\n",
      "enter quantity = 7\n",
      "the info is = \n",
      " {'ram': {'price': 56, 'quantity': 7, 'total': 392}, 'sam': {'price': 56, 'quantity': 7, 'total': 392}}\n",
      "the total is =  784\n"
     ]
    }
   ],
   "source": [
    "d = {}\n",
    "s = 0\n",
    "n = int(input(\"enter no of people = \"))\n",
    "for i in range(n):\n",
    "    name = input(\"enter name = \")\n",
    "    price = int(input(\"enter price = \"))\n",
    "    quantity = int(input(\"enter quantity = \"))\n",
    "    total = price*quantity\n",
    "    s = s+total\n",
    "    d[name] = {\"price\":price,\n",
    "           \"quantity\":quantity,\"total\":total}\n",
    "    \n",
    "    \n",
    "print(\"the info is = \\n\",d)\n",
    "print(\"the total is = \",s)"
   ]
  },
  {
   "cell_type": "code",
   "execution_count": null,
   "metadata": {},
   "outputs": [],
   "source": []
  }
 ],
 "metadata": {
  "kernelspec": {
   "display_name": "Python 3",
   "language": "python",
   "name": "python3"
  },
  "language_info": {
   "codemirror_mode": {
    "name": "ipython",
    "version": 3
   },
   "file_extension": ".py",
   "mimetype": "text/x-python",
   "name": "python",
   "nbconvert_exporter": "python",
   "pygments_lexer": "ipython3",
   "version": "3.8.5"
  }
 },
 "nbformat": 4,
 "nbformat_minor": 4
}
