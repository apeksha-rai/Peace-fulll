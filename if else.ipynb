{
 "cells": [
  {
   "cell_type": "code",
   "execution_count": 1,
   "metadata": {},
   "outputs": [
    {
     "data": {
      "text/plain": [
       "True"
      ]
     },
     "execution_count": 1,
     "metadata": {},
     "output_type": "execute_result"
    }
   ],
   "source": [
    "a = 10\n",
    "b = 20\n",
    "a<b"
   ]
  },
  {
   "cell_type": "code",
   "execution_count": 3,
   "metadata": {},
   "outputs": [],
   "source": [
    "#if <condition>:\n",
    " #  <operation>\n",
    "#elif <condition>:\n",
    "#    <operation>\n",
    "    \n",
    "#else:\n",
    " #   <operation>\n",
    "    "
   ]
  },
  {
   "cell_type": "code",
   "execution_count": 4,
   "metadata": {},
   "outputs": [
    {
     "name": "stdout",
     "output_type": "stream",
     "text": [
      "enter a = 10\n",
      "enter b = 10\n",
      "both are equal\n"
     ]
    }
   ],
   "source": [
    "a = int(input(\"enter a = \"))\n",
    "b = int(input(\"enter b = \"))\n",
    "\n",
    "if a>b:\n",
    "    print(\"a is greater\")\n",
    "    \n",
    "elif a<b:\n",
    "    print(\"b is greater\")\n",
    "    \n",
    "else:\n",
    "    print(\"both are equal\")"
   ]
  },
  {
   "cell_type": "code",
   "execution_count": 5,
   "metadata": {},
   "outputs": [
    {
     "name": "stdout",
     "output_type": "stream",
     "text": [
      "enter a = 1\n",
      "enter b = 1\n",
      "enter c = 1\n",
      "both are equal\n"
     ]
    }
   ],
   "source": [
    "#and or\n",
    "a = int(input(\"enter a = \"))\n",
    "b = int(input(\"enter b = \"))\n",
    "c = int(input(\"enter c = \"))\n",
    "\n",
    "if (a>b) and (a>c):\n",
    "    print(\"a is greater\")\n",
    "    \n",
    "elif a>a and b>c:\n",
    "    print(\"b is greater\")\n",
    "    \n",
    "elif c>a and c>b:\n",
    "    print(\"c is greater\")\n",
    "    \n",
    "else:\n",
    "    print(\"both are equal\")"
   ]
  },
  {
   "cell_type": "code",
   "execution_count": 6,
   "metadata": {},
   "outputs": [
    {
     "name": "stdout",
     "output_type": "stream",
     "text": [
      "enter a = 10\n",
      "enter b = 2\n",
      "enter operator + - * / =4\n"
     ]
    }
   ],
   "source": [
    "a = int(input(\"enter a = \"))\n",
    "b = int(input(\"enter b = \"))\n",
    "o = input(\"enter operator + - * / =\")\n",
    "if o =='+':\n",
    "    print(a+b)\n",
    "    \n",
    "elif o == '-':\n",
    "    print(a-b)\n",
    "    \n",
    "elif o == '*':\n",
    "    print(a*b)\n",
    "    \n",
    "elif o == '/':\n",
    "    print(a/b)\n",
    "    \n",
    "    print(\"invalid operator\")"
   ]
  },
  {
   "cell_type": "code",
   "execution_count": null,
   "metadata": {},
   "outputs": [],
   "source": [
    "a = int(input(\"enter a = \"))\n",
    "b = int(input(\"enter b = \"))\n",
    "o = input(\"enter operator + - * / =\")\n",
    "if o =='+':\n",
    "    print(a+b)\n",
    "    \n",
    "elif o == '-':\n",
    "    print(a-b)\n",
    "    \n",
    "elif o == '*':\n",
    "    print(a*b)\n",
    "    \n",
    "elif o == '/' and b!=0:\n",
    "    print(a/b)\n",
    "elif b ==0:\n",
    "    print(\"value of b can not ne zero\")\n",
    "else:    \n",
    "    print(\"invalid operator\")"
   ]
  },
  {
   "cell_type": "code",
   "execution_count": null,
   "metadata": {},
   "outputs": [],
   "source": [
    "def add(a,b):\n",
    "    return a+b\n",
    "def sub(a,b):\n",
    "    return a-b\n",
    "def mul(a,b):\n",
    "    return a*b\n",
    "def div(a,b):\n",
    "    return a/b\n",
    "a = int(input(\"enter a = \"))\n",
    "b = int(input(\"enter b = \"))\n",
    "o = input(\"enter operator + - * / =\")\n",
    "if o =='+':\n",
    "    print(add(a,b))\n",
    "    \n",
    "elif o == '-':\n",
    "    print(sub(a,b))\n",
    "    \n",
    "elif o == '*':\n",
    "    print(mul(a,b))\n",
    "    \n",
    "elif o == '/' and b!=0:\n",
    "    print(div(a,bs))\n",
    "elif b ==0:\n",
    "    print(\"value of b can not ne zero\")\n",
    "else:    \n",
    "    print(\"invalid operator\")"
   ]
  },
  {
   "cell_type": "code",
   "execution_count": 1,
   "metadata": {},
   "outputs": [],
   "source": [
    "# nested if \n",
    "#if <condition>:\n",
    "#     if<condition>:\n",
    "#            if<condition>:\n",
    " #               ....\n",
    " #                  .."
   ]
  },
  {
   "cell_type": "code",
   "execution_count": 2,
   "metadata": {},
   "outputs": [
    {
     "ename": "SyntaxError",
     "evalue": "invalid syntax (<ipython-input-2-5445ff080521>, line 22)",
     "output_type": "error",
     "traceback": [
      "\u001b[1;36m  File \u001b[1;32m\"<ipython-input-2-5445ff080521>\"\u001b[1;36m, line \u001b[1;32m22\u001b[0m\n\u001b[1;33m    elif o == '/'\u001b[0m\n\u001b[1;37m                  ^\u001b[0m\n\u001b[1;31mSyntaxError\u001b[0m\u001b[1;31m:\u001b[0m invalid syntax\n"
     ]
    }
   ],
   "source": [
    "def add(a,b):\n",
    "    return a+b\n",
    "def sub(a,b):\n",
    "    return a-b\n",
    "def mul(a,b):\n",
    "    return a*b\n",
    "def div(a,b):\n",
    "    return a/b\n",
    "\n",
    "a = int(input(\"enter a = \"))\n",
    "b = int(input(\"enter b = \"))\n",
    "o = input(\"enter operator + - * / =\")\n",
    "if o =='+':\n",
    "    print(add(a,b))\n",
    "    \n",
    "elif o == '-':\n",
    "    print(sub(a,b))\n",
    "    \n",
    "elif o == '*':\n",
    "    print(mul(a,b))\n",
    "    \n",
    "elif o == '/' \n",
    "    if b!=0:  #nested if\n",
    "    print(div(a,bs))\n",
    "elif b ==0:\n",
    "    print(\"value of b can not ne zero\")\n",
    "else:    \n",
    "    print(\"invalid operator\")"
   ]
  },
  {
   "cell_type": "code",
   "execution_count": 3,
   "metadata": {},
   "outputs": [
    {
     "name": "stdout",
     "output_type": "stream",
     "text": [
      "enter l = 1\n",
      "enter b = 2\n",
      "enter h = 3\n",
      "enter 1 for are 2 for volume = 4\n"
     ]
    }
   ],
   "source": [
    "def area(l,b):\n",
    "    return a*b\n",
    "\n",
    "def volume(l,b,h):\n",
    "    return l*b*h\n",
    "l = int(input(\"enter l = \"))\n",
    "b = int(input(\"enter b = \"))\n",
    "h = int(input(\"enter h = \"))\n",
    "\n",
    "x = input(\"enter 1 for are 2 for volume = \")\n",
    "if x == '1':\n",
    "    print(area(l,b))\n",
    "    \n",
    "\n",
    "elif x == '2':\n",
    "    print(volume(l,b,h))"
   ]
  },
  {
   "cell_type": "code",
   "execution_count": null,
   "metadata": {},
   "outputs": [],
   "source": []
  }
 ],
 "metadata": {
  "kernelspec": {
   "display_name": "Python 3",
   "language": "python",
   "name": "python3"
  },
  "language_info": {
   "codemirror_mode": {
    "name": "ipython",
    "version": 3
   },
   "file_extension": ".py",
   "mimetype": "text/x-python",
   "name": "python",
   "nbconvert_exporter": "python",
   "pygments_lexer": "ipython3",
   "version": "3.8.5"
  }
 },
 "nbformat": 4,
 "nbformat_minor": 4
}
